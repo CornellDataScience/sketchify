{
 "cells": [
  {
   "cell_type": "code",
   "execution_count": 2,
   "metadata": {},
   "outputs": [],
   "source": [
    "from image_segmentation.model import image_segmentation\n",
    "from edge_detection.model import edge_detection\n",
    "from edge_smoothing.model import edge_smoothing\n",
    "from convert_svg.model import convert_svg\n",
    "\n",
    "# Load\n",
    "image_path = '../public/bear_fishing.jpg'\n",
    "with open(image_path, 'rb') as f:\n",
    "    image_bytes = f.read()\n",
    "\n",
    "# Hardcoded for now\n",
    "tl = (1142, 134)  # Top-left corner of the image (adjust based on your image)\n",
    "br = (1739, 1064)  # Bottom-right corner of the image (adjust based on your image)\n"
   ]
  },
  {
   "cell_type": "code",
   "execution_count": 3,
   "metadata": {},
   "outputs": [],
   "source": [
    "\n",
    "segmented_image = image_segmentation(\n",
    "    image_bytes, tl, br, \"image_segmentation/sam_vit_h_4b8939.pth\")"
   ]
  },
  {
   "cell_type": "code",
   "execution_count": 4,
   "metadata": {},
   "outputs": [],
   "source": [
    "\n",
    "edged_image = edge_detection(segmented_image)"
   ]
  },
  {
   "cell_type": "code",
   "execution_count": 7,
   "metadata": {},
   "outputs": [
    {
     "ename": "error",
     "evalue": "OpenCV(4.9.0) :-1: error: (-5:Bad argument) in function 'dilate'\n> Overload resolution failed:\n>  - src is not a numpy array, neither a scalar\n>  - Expected Ptr<cv::UMat> for argument 'src'\n",
     "output_type": "error",
     "traceback": [
      "\u001b[0;31m---------------------------------------------------------------------------\u001b[0m",
      "\u001b[0;31merror\u001b[0m                                     Traceback (most recent call last)",
      "Cell \u001b[0;32mIn[7], line 1\u001b[0m\n\u001b[0;32m----> 1\u001b[0m smoothed_image \u001b[38;5;241m=\u001b[39m \u001b[43medge_smoothing\u001b[49m\u001b[43m(\u001b[49m\u001b[43medged_image\u001b[49m\u001b[43m)\u001b[49m\n",
      "File \u001b[0;32m/home/jason/Drive/development/cds/sketchy/ml/edge_smoothing/model.py:23\u001b[0m, in \u001b[0;36medge_smoothing\u001b[0;34m(f)\u001b[0m\n\u001b[1;32m     20\u001b[0m kernel_closing \u001b[38;5;241m=\u001b[39m (\u001b[38;5;241m3\u001b[39m, \u001b[38;5;241m3\u001b[39m)\n\u001b[1;32m     22\u001b[0m \u001b[38;5;66;03m# Prepare the image to be contoured\u001b[39;00m\n\u001b[0;32m---> 23\u001b[0m prepared_img \u001b[38;5;241m=\u001b[39m \u001b[43mcontour_preparation\u001b[49m\u001b[43m(\u001b[49m\u001b[43mf\u001b[49m\u001b[43m)\u001b[49m\n\u001b[1;32m     24\u001b[0m denoised_img \u001b[38;5;241m=\u001b[39m denoising(prepared_img)\n\u001b[1;32m     26\u001b[0m \u001b[38;5;66;03m# Contour the image\u001b[39;00m\n",
      "File \u001b[0;32m/home/jason/Drive/development/cds/sketchy/ml/edge_smoothing/model.py:98\u001b[0m, in \u001b[0;36mcontour_preparation\u001b[0;34m(img)\u001b[0m\n\u001b[1;32m     87\u001b[0m \u001b[38;5;250m\u001b[39m\u001b[38;5;124;03m\"\"\"\u001b[39;00m\n\u001b[1;32m     88\u001b[0m \u001b[38;5;124;03mPrepares the image for contour extraction\u001b[39;00m\n\u001b[1;32m     89\u001b[0m \n\u001b[0;32m   (...)\u001b[0m\n\u001b[1;32m     94\u001b[0m \u001b[38;5;124;03m    A binary file representing an image JPG or PNG\u001b[39;00m\n\u001b[1;32m     95\u001b[0m \u001b[38;5;124;03m\"\"\"\u001b[39;00m\n\u001b[1;32m     96\u001b[0m \u001b[38;5;66;03m# Dilate the edges before denoising\u001b[39;00m\n\u001b[1;32m     97\u001b[0m \u001b[38;5;66;03m# Necessary to prevent thin prominent lines from weathering away\u001b[39;00m\n\u001b[0;32m---> 98\u001b[0m dilated_edges \u001b[38;5;241m=\u001b[39m \u001b[43mcv2\u001b[49m\u001b[38;5;241;43m.\u001b[39;49m\u001b[43mdilate\u001b[49m\u001b[43m(\u001b[49m\u001b[43mimg\u001b[49m\u001b[43m,\u001b[49m\u001b[43m \u001b[49m\u001b[43m(\u001b[49m\u001b[38;5;241;43m3\u001b[39;49m\u001b[43m,\u001b[49m\u001b[43m \u001b[49m\u001b[38;5;241;43m3\u001b[39;49m\u001b[43m)\u001b[49m\u001b[43m,\u001b[49m\u001b[43m \u001b[49m\u001b[43miterations\u001b[49m\u001b[38;5;241;43m=\u001b[39;49m\u001b[38;5;241;43m1\u001b[39;49m\u001b[43m)\u001b[49m\n\u001b[1;32m    100\u001b[0m \u001b[38;5;66;03m# Denoising the image\u001b[39;00m\n\u001b[1;32m    101\u001b[0m dst \u001b[38;5;241m=\u001b[39m cv2\u001b[38;5;241m.\u001b[39mfastNlMeansDenoising(dilated_edges, \u001b[38;5;241m11\u001b[39m, \u001b[38;5;241m21\u001b[39m, \u001b[38;5;241m25\u001b[39m)\n",
      "\u001b[0;31merror\u001b[0m: OpenCV(4.9.0) :-1: error: (-5:Bad argument) in function 'dilate'\n> Overload resolution failed:\n>  - src is not a numpy array, neither a scalar\n>  - Expected Ptr<cv::UMat> for argument 'src'\n"
     ]
    }
   ],
   "source": [
    "\n",
    "smoothed_image = edge_smoothing(edged_image)"
   ]
  },
  {
   "cell_type": "code",
   "execution_count": null,
   "metadata": {},
   "outputs": [],
   "source": [
    "\n",
    "svg = convert_svg(smoothed_image)"
   ]
  },
  {
   "cell_type": "code",
   "execution_count": null,
   "metadata": {},
   "outputs": [],
   "source": [
    "\n",
    "# Save\n",
    "segmented_image_path = '../public/bear_fishing_output.svg'\n",
    "with open(segmented_image_path, 'wb') as f:\n",
    "    f.write(svg)"
   ]
  }
 ],
 "metadata": {
  "kernelspec": {
   "display_name": "Python 3",
   "language": "python",
   "name": "python3"
  },
  "language_info": {
   "codemirror_mode": {
    "name": "ipython",
    "version": 3
   },
   "file_extension": ".py",
   "mimetype": "text/x-python",
   "name": "python",
   "nbconvert_exporter": "python",
   "pygments_lexer": "ipython3",
   "version": "3.10.12"
  }
 },
 "nbformat": 4,
 "nbformat_minor": 2
}
