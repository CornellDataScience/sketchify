{
 "cells": [
  {
   "cell_type": "code",
   "execution_count": 2,
   "metadata": {},
   "outputs": [
    {
     "name": "stderr",
     "output_type": "stream",
     "text": [
      "[ WARN:0@4.727] global loadsave.cpp:248 findDecoder imread_('../../public/Glazed-Donut.jpg'): can't open/read file: check file path/integrity\n"
     ]
    },
    {
     "ename": "AssertionError",
     "evalue": "file could not be read, check with os.path.exists()",
     "output_type": "error",
     "traceback": [
      "\u001b[0;31m---------------------------------------------------------------------------\u001b[0m",
      "\u001b[0;31mAssertionError\u001b[0m                            Traceback (most recent call last)",
      "Cell \u001b[0;32mIn[2], line 6\u001b[0m\n\u001b[1;32m      3\u001b[0m \u001b[39mfrom\u001b[39;00m \u001b[39mmatplotlib\u001b[39;00m \u001b[39mimport\u001b[39;00m pyplot \u001b[39mas\u001b[39;00m plt\n\u001b[1;32m      5\u001b[0m img \u001b[39m=\u001b[39m cv\u001b[39m.\u001b[39mimread(\u001b[39m'\u001b[39m\u001b[39m../../public/Glazed-Donut.jpg\u001b[39m\u001b[39m'\u001b[39m, cv\u001b[39m.\u001b[39mIMREAD_GRAYSCALE)\n\u001b[0;32m----> 6\u001b[0m \u001b[39massert\u001b[39;00m img \u001b[39mis\u001b[39;00m \u001b[39mnot\u001b[39;00m \u001b[39mNone\u001b[39;00m, \u001b[39m\"\u001b[39m\u001b[39mfile could not be read, check with os.path.exists()\u001b[39m\u001b[39m\"\u001b[39m\n\u001b[1;32m      7\u001b[0m edges \u001b[39m=\u001b[39m cv\u001b[39m.\u001b[39mCanny(img,\u001b[39m100\u001b[39m,\u001b[39m200\u001b[39m)\n\u001b[1;32m      9\u001b[0m plt\u001b[39m.\u001b[39msubplot(\u001b[39m121\u001b[39m),plt\u001b[39m.\u001b[39mimshow(img,cmap \u001b[39m=\u001b[39m \u001b[39m'\u001b[39m\u001b[39mgray\u001b[39m\u001b[39m'\u001b[39m)\n",
      "\u001b[0;31mAssertionError\u001b[0m: file could not be read, check with os.path.exists()"
     ]
    }
   ],
   "source": [
    "import numpy as np\n",
    "import cv2 as cv\n",
    "from matplotlib import pyplot as plt\n",
    " \n",
    "img = cv.imread('../../public/Glazed-Donut.jpg', cv.IMREAD_GRAYSCALE)\n",
    "assert img is not None, \"file could not be read, check with os.path.exists()\"\n",
    "edges = cv.Canny(img,100,200)\n",
    " \n",
    "plt.subplot(121),plt.imshow(img,cmap = 'gray')\n",
    "plt.title('Original Image'), plt.xticks([]), plt.yticks([])\n",
    "plt.subplot(122),plt.imshow(edges,cmap = 'gray')\n",
    "plt.title('Edge Image'), plt.xticks([]), plt.yticks([])\n",
    " \n",
    "plt.show()\n"
   ]
  },
  {
   "cell_type": "code",
   "execution_count": null,
   "metadata": {},
   "outputs": [],
   "source": [
    "checkpoint = \"sam_vit_h_4b8939.pth\"\n",
    "model_type = \"vit_h\"\n",
    "sam = sam_model_registry[model_type](checkpoint=checkpoint)\n",
    "mask_generator = SamAutomaticMaskGenerator(sam)\n",
    "predictor = SamPredictor(sam)"
   ]
  }
 ],
 "metadata": {
  "kernelspec": {
   "display_name": "Python 3",
   "language": "python",
   "name": "python3"
  },
  "language_info": {
   "codemirror_mode": {
    "name": "ipython",
    "version": 3
   },
   "file_extension": ".py",
   "mimetype": "text/x-python",
   "name": "python",
   "nbconvert_exporter": "python",
   "pygments_lexer": "ipython3",
   "version": "3.11.5"
  }
 },
 "nbformat": 4,
 "nbformat_minor": 2
}
