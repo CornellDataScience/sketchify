{
 "cells": [
  {
   "cell_type": "code",
   "execution_count": 5,
   "metadata": {},
   "outputs": [],
   "source": [
    "import vtracer\n",
    "\n",
    "# input_path = \"../../public/Glazed-Donut.jpg\"\n",
    "# output_path = \"../../public/Glazed-Donut.svg\"\n",
    "\n",
    "input_path = \"../../public/coloring002.jpg\"\n",
    "output_path = \"../../public/coloring002.svg\"\n",
    "\n",
    "# # Minimal example: use all default values, generate a multicolor SVG\n",
    "# vtracer.convert_image_to_svg_py(input_path, output_path)\n",
    "\n",
    "# Single-color example. Good for line art, and much faster than full color:\n",
    "vtracer.convert_image_to_svg_py(input_path, output_path, colormode='binary')\n",
    "\n",
    "# # All the bells & whistles\n",
    "vtracer.convert_image_to_svg_py(input_path,\n",
    "                                output_path,\n",
    "                                colormode = 'color',        # [\"color\"] or \"binary\"\n",
    "                                hierarchical = 'stacked',   # [\"stacked\"] or \"cutout\"\n",
    "                                mode = 'spline',            # [\"spline\"] \"polygon\", or \"none\"\n",
    "                                filter_speckle = 4,         # default: 4\n",
    "                                color_precision = 6,        # default: 6\n",
    "                                layer_difference = 16,      # default: 16\n",
    "                                corner_threshold = 60,      # default: 60\n",
    "                                length_threshold = 4.0,     # in [3.5, 10] default: 4.0\n",
    "                                max_iterations = 10,        # default: 10\n",
    "                                splice_threshold = 45,      # default: 45\n",
    "                                path_precision = 3          # default: 8\n",
    "                                )\n"
   ]
  },
  {
   "cell_type": "code",
   "execution_count": null,
   "metadata": {},
   "outputs": [],
   "source": []
  }
 ],
 "metadata": {
  "kernelspec": {
   "display_name": "Python 3",
   "language": "python",
   "name": "python3"
  },
  "language_info": {
   "codemirror_mode": {
    "name": "ipython",
    "version": 3
   },
   "file_extension": ".py",
   "mimetype": "text/x-python",
   "name": "python",
   "nbconvert_exporter": "python",
   "pygments_lexer": "ipython3",
   "version": "3.9.12"
  }
 },
 "nbformat": 4,
 "nbformat_minor": 2
}
