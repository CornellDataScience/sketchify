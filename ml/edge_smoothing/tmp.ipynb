{
 "cells": [
  {
   "cell_type": "code",
   "execution_count": 2,
   "metadata": {},
   "outputs": [
    {
     "ename": "ModuleNotFoundError",
     "evalue": "No module named 'cv2'",
     "output_type": "error",
     "traceback": [
      "\u001b[0;31m---------------------------------------------------------------------------\u001b[0m",
      "\u001b[0;31mModuleNotFoundError\u001b[0m                       Traceback (most recent call last)",
      "Cell \u001b[0;32mIn[2], line 3\u001b[0m\n\u001b[1;32m      1\u001b[0m \u001b[39m# Python program to demonstrate erosion and \u001b[39;00m\n\u001b[1;32m      2\u001b[0m \u001b[39m# dilation of images. \u001b[39;00m\n\u001b[0;32m----> 3\u001b[0m \u001b[39mimport\u001b[39;00m \u001b[39mcv2\u001b[39;00m \n\u001b[1;32m      4\u001b[0m \u001b[39mimport\u001b[39;00m \u001b[39mnumpy\u001b[39;00m \u001b[39mas\u001b[39;00m \u001b[39mnp\u001b[39;00m \n\u001b[1;32m      5\u001b[0m \u001b[39mfrom\u001b[39;00m \u001b[39mmatplotlib\u001b[39;00m \u001b[39mimport\u001b[39;00m pyplot \u001b[39mas\u001b[39;00m plt\n",
      "\u001b[0;31mModuleNotFoundError\u001b[0m: No module named 'cv2'"
     ]
    }
   ],
   "source": [
    "# Python program to demonstrate erosion and \n",
    "# dilation of images. \n",
    "import cv2 \n",
    "import numpy as np \n",
    "from matplotlib import pyplot as plt\n",
    "  \n",
    "# Reading the input image \n",
    "img = cv2.imread('../../public/canny_output.png', 0) \n",
    "  \n",
    "# Taking a matrix of size 5 as the kernel \n",
    "kernel = np.ones((5, 5), np.uint8) \n",
    "  \n",
    "# The first parameter is the original image, \n",
    "# kernel is the matrix with which image is \n",
    "# convolved and third parameter is the number \n",
    "# of iterations, which will determine how much \n",
    "# you want to erode/dilate a given image. \n",
    "img_erosion = cv2.erode(img, kernel, iterations=1) \n",
    "img_dilation = cv2.dilate(img, kernel, iterations=1) \n",
    "\n",
    "# invert dilated image to be black edges on white\n",
    "img_dilation_inverted = cv2.bitwise_not(img_dilation)\n",
    "  \n",
    "plt.subplot(121),plt.imshow(img,cmap = 'gray')\n",
    "plt.title('Original Image'), plt.xticks([]), plt.yticks([])\n",
    "plt.subplot(122),plt.imshow(img_dilation_inverted,cmap = 'gray')\n",
    "plt.title('Dilated Image'), plt.xticks([]), plt.yticks([])\n",
    " \n",
    "plt.show()\n",
    "\n",
    "# cv2.imshow('Input', img) \n",
    "# cv2.imshow('Erosion', img_erosion) \n",
    "# cv2.imshow('Dilation', img_dilation) \n",
    "  \n",
    "# cv2.waitKey(0) "
   ]
  },
  {
   "cell_type": "code",
   "execution_count": null,
   "metadata": {},
   "outputs": [],
   "source": []
  }
 ],
 "metadata": {
  "kernelspec": {
   "display_name": "Python 3",
   "language": "python",
   "name": "python3"
  },
  "language_info": {
   "codemirror_mode": {
    "name": "ipython",
    "version": 3
   },
   "file_extension": ".py",
   "mimetype": "text/x-python",
   "name": "python",
   "nbconvert_exporter": "python",
   "pygments_lexer": "ipython3",
   "version": "3.11.6"
  }
 },
 "nbformat": 4,
 "nbformat_minor": 2
}
