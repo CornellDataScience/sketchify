{
 "cells": [
  {
   "cell_type": "code",
   "execution_count": 6,
   "metadata": {},
   "outputs": [],
   "source": [
    "from skimage.metrics import structural_similarity as ssim\n",
    "import cv2\n",
    "import numpy as np"
   ]
  },
  {
   "cell_type": "code",
   "execution_count": 9,
   "metadata": {},
   "outputs": [],
   "source": [
    "def image_similarity(image1: bytes, image2: bytes) -> float:\n",
    "    \"\"\"\n",
    "    Returns the similarity as a float score between two images using the Structural Similarity Index\n",
    "\n",
    "    Args:\n",
    "        image1: binary file representing the first image JPG or PNG\n",
    "        image2: binary file representing the second image JPG or PNG\n",
    "\n",
    "    Returns:\n",
    "        A score representing how similar the two images are. 1.0 means that the two images are identical.\n",
    "    \"\"\"\n",
    "    # Convert bytes to numpy array\n",
    "    nparr1 = np.frombuffer(image1, np.uint8)\n",
    "    nparr2 = np.frombuffer(image2, np.uint8)\n",
    "\n",
    "    # Decode images\n",
    "    image1 = cv2.imdecode(nparr1, cv2.IMREAD_GRAYSCALE)  # SSIM comparison is done on grayscale images\n",
    "    image2 = cv2.imdecode(nparr2, cv2.IMREAD_GRAYSCALE)\n",
    "\n",
    "    # Ensure the images are the same size\n",
    "    image1 = cv2.resize(image1, (256, 256))\n",
    "    image2 = cv2.resize(image2, (256, 256))\n",
    "\n",
    "    # Calculate the SSIM between the two images\n",
    "    similarity_score, _ = ssim(image1, image2, full=True)\n",
    "\n",
    "    return similarity_score\n"
   ]
  },
  {
   "cell_type": "code",
   "execution_count": 11,
   "metadata": {},
   "outputs": [
    {
     "ename": "error",
     "evalue": "OpenCV(4.9.0) D:\\a\\opencv-python\\opencv-python\\opencv\\modules\\imgproc\\src\\resize.cpp:4152: error: (-215:Assertion failed) !ssize.empty() in function 'cv::resize'\n",
     "output_type": "error",
     "traceback": [
      "\u001b[1;31m---------------------------------------------------------------------------\u001b[0m",
      "\u001b[1;31merror\u001b[0m                                     Traceback (most recent call last)",
      "Cell \u001b[1;32mIn[11], line 5\u001b[0m\n\u001b[0;32m      1\u001b[0m image1 \u001b[38;5;241m=\u001b[39m cv2\u001b[38;5;241m.\u001b[39mimread(\u001b[38;5;124m'\u001b[39m\u001b[38;5;124m../../public/coloring002.jpg\u001b[39m\u001b[38;5;124m'\u001b[39m)\n\u001b[0;32m      2\u001b[0m image2 \u001b[38;5;241m=\u001b[39m cv2\u001b[38;5;241m.\u001b[39mimread(\u001b[38;5;124m'\u001b[39m\u001b[38;5;124m../../public/IMG_0492.jpg\u001b[39m\u001b[38;5;124m'\u001b[39m)\n\u001b[1;32m----> 5\u001b[0m \u001b[43mimage_similarity\u001b[49m\u001b[43m(\u001b[49m\u001b[43mimage1\u001b[49m\u001b[43m,\u001b[49m\u001b[43m \u001b[49m\u001b[43mimage2\u001b[49m\u001b[43m)\u001b[49m\n",
      "Cell \u001b[1;32mIn[9], line 21\u001b[0m, in \u001b[0;36mimage_similarity\u001b[1;34m(image1, image2)\u001b[0m\n\u001b[0;32m     18\u001b[0m image2 \u001b[38;5;241m=\u001b[39m cv2\u001b[38;5;241m.\u001b[39mimdecode(nparr2, cv2\u001b[38;5;241m.\u001b[39mIMREAD_GRAYSCALE)\n\u001b[0;32m     20\u001b[0m \u001b[38;5;66;03m# Ensure the images are the same size\u001b[39;00m\n\u001b[1;32m---> 21\u001b[0m image1 \u001b[38;5;241m=\u001b[39m \u001b[43mcv2\u001b[49m\u001b[38;5;241;43m.\u001b[39;49m\u001b[43mresize\u001b[49m\u001b[43m(\u001b[49m\u001b[43mimage1\u001b[49m\u001b[43m,\u001b[49m\u001b[43m \u001b[49m\u001b[43m(\u001b[49m\u001b[38;5;241;43m256\u001b[39;49m\u001b[43m,\u001b[49m\u001b[43m \u001b[49m\u001b[38;5;241;43m256\u001b[39;49m\u001b[43m)\u001b[49m\u001b[43m)\u001b[49m\n\u001b[0;32m     22\u001b[0m image2 \u001b[38;5;241m=\u001b[39m cv2\u001b[38;5;241m.\u001b[39mresize(image2, (\u001b[38;5;241m256\u001b[39m, \u001b[38;5;241m256\u001b[39m))\n\u001b[0;32m     24\u001b[0m \u001b[38;5;66;03m# Calculate the SSIM between the two images\u001b[39;00m\n",
      "\u001b[1;31merror\u001b[0m: OpenCV(4.9.0) D:\\a\\opencv-python\\opencv-python\\opencv\\modules\\imgproc\\src\\resize.cpp:4152: error: (-215:Assertion failed) !ssize.empty() in function 'cv::resize'\n"
     ]
    }
   ],
   "source": [
    "image1 = cv2.imread('../../public/coloring002.jpg')\n",
    "image2 = cv2.imread('../../public/IMG_0492.jpg')\n",
    "\n",
    "\n",
    "image_similarity(image1, image2)"
   ]
  }
 ],
 "metadata": {
  "kernelspec": {
   "display_name": "Python 3",
   "language": "python",
   "name": "python3"
  },
  "language_info": {
   "codemirror_mode": {
    "name": "ipython",
    "version": 3
   },
   "file_extension": ".py",
   "mimetype": "text/x-python",
   "name": "python",
   "nbconvert_exporter": "python",
   "pygments_lexer": "ipython3",
   "version": "3.11.9"
  }
 },
 "nbformat": 4,
 "nbformat_minor": 2
}
